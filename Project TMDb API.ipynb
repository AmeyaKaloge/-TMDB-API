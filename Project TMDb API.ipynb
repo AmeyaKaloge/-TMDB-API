{
 "cells": [
  {
   "cell_type": "code",
   "execution_count": 1,
   "id": "1e58fa4e",
   "metadata": {},
   "outputs": [],
   "source": [
    "import requests"
   ]
  },
  {
   "cell_type": "code",
   "execution_count": 2,
   "id": "7ff09d14",
   "metadata": {},
   "outputs": [],
   "source": [
    "# Enter your API Key below\n",
    "apiKey = 'API_KEY' "
   ]
  },
  {
   "cell_type": "markdown",
   "id": "80cfa7ec",
   "metadata": {},
   "source": [
    "# TMDb 1.1\n",
    "    Find the 'id' of the movie \"Andhadhun\" using TMDb API.\n",
    "    Output Format:\n",
    "    Print the id of the movie."
   ]
  },
  {
   "cell_type": "code",
   "execution_count": 3,
   "id": "7dcb1be7",
   "metadata": {},
   "outputs": [
    {
     "name": "stdout",
     "output_type": "stream",
     "text": [
      "534780\n"
     ]
    }
   ],
   "source": [
    "for i in range(1,10):\n",
    "    res = requests.get('https://api.themoviedb.org/3/discover/movie',params={'api_key':apiKey,'page':i,'region':'IN','year':2018}) \n",
    "    data=res.json()\n",
    "    for i in data['results']:\n",
    "        if 'Andhadhun' in i['title']:\n",
    "            print(i['id'])\n",
    "            break"
   ]
  },
  {
   "cell_type": "markdown",
   "id": "9b429edd",
   "metadata": {},
   "source": [
    "# TMDb 1.2\n",
    "    Fetch the company id company 'Marvel Studios' using TMDb. Print the id."
   ]
  },
  {
   "cell_type": "code",
   "execution_count": 4,
   "id": "cb939212",
   "metadata": {},
   "outputs": [
    {
     "name": "stdout",
     "output_type": "stream",
     "text": [
      "420\n"
     ]
    }
   ],
   "source": [
    "res = requests.get('https://api.themoviedb.org/3/search/company',params={'api_key':apiKey,'page':1,'query':'Marvel Studios'}) \n",
    "data=res.json()\n",
    "print(data['results'][0]['id'])"
   ]
  },
  {
   "cell_type": "markdown",
   "id": "e0353c6b",
   "metadata": {},
   "source": [
    "# TMDb 1.3\n",
    "    Find the vote count and vote average of the movie \"3 Idiots\" using the TMDb API\n",
    "    Output format: Vote Count , Vote Average"
   ]
  },
  {
   "cell_type": "code",
   "execution_count": 5,
   "id": "685dea5f",
   "metadata": {},
   "outputs": [
    {
     "name": "stdout",
     "output_type": "stream",
     "text": [
      "2043 8\n"
     ]
    }
   ],
   "source": [
    "    for i in range(1,10):\n",
    "        res = requests.get('https://api.themoviedb.org/3/discover/movie',params={'api_key':apiKey,'page':i,'region':'IN','year':2009}) \n",
    "        data=res.json()\n",
    "        for i in data['results']:\n",
    "            if '3 Idiots' in i['title']:\n",
    "                print(i['vote_count'],i['vote_average'])\n",
    "                break"
   ]
  },
  {
   "cell_type": "markdown",
   "id": "156266e6",
   "metadata": {},
   "source": [
    "# TMDb 1.4\n",
    "    Fetch the names of top 5 similar movies to 'Inception' from the TMDb API.\n",
    "    Output Format:\n",
    "    Print the name of the movies in a new line.\n",
    "    movie_name_1\n",
    "    movie_name_2\n",
    "    and so on"
   ]
  },
  {
   "cell_type": "code",
   "execution_count": 6,
   "id": "84ff788b",
   "metadata": {},
   "outputs": [
    {
     "name": "stdout",
     "output_type": "stream",
     "text": [
      "27205\n"
     ]
    }
   ],
   "source": [
    "\n",
    "res = requests.get('https://api.themoviedb.org/3/search/movie',params={'api_key':apiKey,'query':'Inception'}) \n",
    "data=res.json()\n",
    "for i in data['results']:\n",
    "    if i['title']=='Inception':\n",
    "        print(i['id'])\n",
    "        break"
   ]
  },
  {
   "cell_type": "code",
   "execution_count": 7,
   "id": "7f32c589",
   "metadata": {},
   "outputs": [
    {
     "name": "stdout",
     "output_type": "stream",
     "text": [
      "The Jewel of the Nile\n",
      "Forever Young\n",
      "Dobermann\n",
      "Shiri\n",
      "Volcano\n"
     ]
    }
   ],
   "source": [
    "res = requests.get('https://api.themoviedb.org/3/movie/27205/similar',params={'api_key':apiKey}) \n",
    "data=res.json()\n",
    "\n",
    "for i in data['results'][:5]:\n",
    "    print(i['title'])\n"
   ]
  },
  {
   "cell_type": "markdown",
   "id": "38aedefe",
   "metadata": {},
   "source": [
    "# TMDb 1.5\n",
    "    Fetch the top rated english movies in the US region using the TMDb API. From the result, print the first 10 movies which have original language as english. Also print their genres.\n",
    "    Note: Do not use the search/movies API for finding genres.\n",
    "    Output Format:\n",
    "    movie_name_1 - genre_1, genre_2 ....\n",
    "    and so on.."
   ]
  },
  {
   "cell_type": "code",
   "execution_count": 8,
   "id": "5feefb0f",
   "metadata": {},
   "outputs": [
    {
     "data": {
      "text/plain": [
       "{28: 'Action',\n",
       " 12: 'Adventure',\n",
       " 16: 'Animation',\n",
       " 35: 'Comedy',\n",
       " 80: 'Crime',\n",
       " 99: 'Documentary',\n",
       " 18: 'Drama',\n",
       " 10751: 'Family',\n",
       " 14: 'Fantasy',\n",
       " 36: 'History',\n",
       " 27: 'Horror',\n",
       " 10402: 'Music',\n",
       " 9648: 'Mystery',\n",
       " 10749: 'Romance',\n",
       " 878: 'Science Fiction',\n",
       " 10770: 'TV Movie',\n",
       " 53: 'Thriller',\n",
       " 10752: 'War',\n",
       " 37: 'Western'}"
      ]
     },
     "execution_count": 8,
     "metadata": {},
     "output_type": "execute_result"
    }
   ],
   "source": [
    "# find id of genres\n",
    "res = requests.get('https://api.themoviedb.org/3/genre/movie/list',params={'api_key':apiKey}) \n",
    "data=res.json()\n",
    "genres={}\n",
    "for i in data['genres']:\n",
    "    genres[i['id']]=i['name']\n",
    "genres"
   ]
  },
  {
   "cell_type": "code",
   "execution_count": 9,
   "id": "e7584368",
   "metadata": {},
   "outputs": [
    {
     "name": "stdout",
     "output_type": "stream",
     "text": [
      "The Godfather - Drama, Crime, \n",
      "The Shawshank Redemption - Drama, Crime, \n",
      "The Godfather Part II - Drama, Crime, \n",
      "Schindler's List - Drama, History, War, \n",
      "12 Angry Men - Drama, \n",
      "The Boy, the Mole, the Fox and the Horse - Animation, Family, Adventure, Fantasy, \n",
      "The Dark Knight - Drama, Action, Crime, Thriller, \n",
      "The Green Mile - Fantasy, Drama, Crime, \n",
      "Pulp Fiction - Thriller, Crime, \n",
      "Forrest Gump - Comedy, Drama, Romance, \n"
     ]
    }
   ],
   "source": [
    "res = requests.get('https://api.themoviedb.org/3/movie/top_rated',params={'api_key':apiKey,'region':'US'}) \n",
    "data=res.json()\n",
    "data['results']\n",
    "count=0\n",
    "for i in data['results']:\n",
    "    if i['original_language']=='en':\n",
    "        print(i['title'],end=' - ')\n",
    "        for j in i['genre_ids']:\n",
    "            print(genres[j],end=', ')\n",
    "        print()\n",
    "        count+=1\n",
    "    if count==10:\n",
    "        break\n"
   ]
  },
  {
   "cell_type": "markdown",
   "id": "f02d8ea2",
   "metadata": {},
   "source": [
    "# TMDb 2.1\n",
    "    Find the name and birthplace of the present most popular person according to TMDb API.\n",
    "    Output Format:\n",
    "    id\n",
    "    name - birthplace"
   ]
  },
  {
   "cell_type": "code",
   "execution_count": 10,
   "id": "92ac59c6",
   "metadata": {},
   "outputs": [
    {
     "data": {
      "text/plain": [
       "15737"
      ]
     },
     "execution_count": 10,
     "metadata": {},
     "output_type": "execute_result"
    }
   ],
   "source": [
    "res = requests.get('https://api.themoviedb.org/3/person/popular',params={'api_key':apiKey}) \n",
    "data=res.json()\n",
    "data=data['results'][0]\n",
    "MostPopularId=data['id']\n",
    "MostPopularId"
   ]
  },
  {
   "cell_type": "code",
   "execution_count": 11,
   "id": "2f951de6",
   "metadata": {},
   "outputs": [
    {
     "name": "stdout",
     "output_type": "stream",
     "text": [
      "Tom Holland - Surrey, England, UK\n"
     ]
    }
   ],
   "source": [
    "res = requests.get('https://api.themoviedb.org/3/person/1136406',params={'api_key':apiKey}) \n",
    "data=res.json()\n",
    "print(data['name'],'-',data['place_of_birth'])"
   ]
  },
  {
   "cell_type": "markdown",
   "id": "7ea569d4",
   "metadata": {},
   "source": [
    "# TMDb 2.2\n",
    "    Fetch the Instagram and Twitter handle of Indian Actress \"Alia Bhatt\" from the TMDb API.\n",
    "    Output Format\n",
    "    Print the Instagram and Twitter IDs space separated.\n",
    "    instagram_id twitter_id"
   ]
  },
  {
   "cell_type": "code",
   "execution_count": 12,
   "id": "7f88ae74",
   "metadata": {},
   "outputs": [],
   "source": [
    "res = requests.get('https://api.themoviedb.org/3/search/person',params={'api_key':apiKey,'query':'Alia Bhatt'}) \n",
    "data=res.json()\n",
    "ID  = data['results'][0]['id']"
   ]
  },
  {
   "cell_type": "code",
   "execution_count": 13,
   "id": "57505d91",
   "metadata": {},
   "outputs": [
    {
     "name": "stdout",
     "output_type": "stream",
     "text": [
      "aliaabhatt Aliaa08\n"
     ]
    }
   ],
   "source": [
    "res = requests.get(f'https://api.themoviedb.org/3/person/{ID}/external_ids',params={'api_key':apiKey}) \n",
    "data=res.json()\n",
    "print(data['instagram_id'],data['twitter_id'])"
   ]
  },
  {
   "cell_type": "markdown",
   "id": "a339f70a",
   "metadata": {},
   "source": [
    "# TMDb 2.3\n",
    "    Fetch the names of the character played by Tom Cruise in the movies:\n",
    "    Top Gun\n",
    "    Mission: Impossible - Fallout\n",
    "    Minority Report\n",
    "    Edge of Tomorrow\n",
    "    Output Format:\n",
    "    Print the names of the characters played by Tom Cruise line separated, in the respective order given in question."
   ]
  },
  {
   "cell_type": "code",
   "execution_count": 14,
   "id": "a7709b66",
   "metadata": {},
   "outputs": [
    {
     "data": {
      "text/plain": [
       "500"
      ]
     },
     "execution_count": 14,
     "metadata": {},
     "output_type": "execute_result"
    }
   ],
   "source": [
    "res = requests.get('https://api.themoviedb.org/3/search/person',params={'api_key':apiKey,'query':'Tom Cruise'}) \n",
    "data=res.json()\n",
    "ID  = data['results'][0]['id']\n",
    "ID"
   ]
  },
  {
   "cell_type": "code",
   "execution_count": 15,
   "id": "dd0d6fc4",
   "metadata": {},
   "outputs": [
    {
     "name": "stdout",
     "output_type": "stream",
     "text": [
      "Lt. Pete 'Maverick' Mitchell\n",
      "Ethan Hunt\n",
      "Chief John Anderton\n",
      "Maj. William 'Bill' Cage\n"
     ]
    }
   ],
   "source": [
    "res = requests.get(f'https://api.themoviedb.org/3/person/{ID}/movie_credits',params={'api_key':apiKey}) \n",
    "data=res.json()\n",
    "for i in data['cast']:\n",
    "    if i['title']=='Top Gun':\n",
    "        print(i['character'])\n",
    "        break\n",
    "for i in data['cast']:\n",
    "    if i['title']=='Mission: Impossible - Fallout': \n",
    "        print(i['character'])\n",
    "        break\n",
    "for i in data['cast']:\n",
    "    if i['title']=='Minority Report': \n",
    "        print(i['character'])\n",
    "        break\n",
    "for i in data['cast']:\n",
    "    if i['title']=='Edge of Tomorrow': \n",
    "        print(i['character'])\n",
    "        break"
   ]
  },
  {
   "cell_type": "markdown",
   "id": "7cba3c02",
   "metadata": {},
   "source": [
    "# TMDb 2.4\n",
    "    Did mames McAvoy play a role in the movie Deadpool 2. Print Yes or No.\n"
   ]
  },
  {
   "cell_type": "code",
   "execution_count": 16,
   "id": "4ac1728a",
   "metadata": {},
   "outputs": [
    {
     "data": {
      "text/plain": [
       "5530"
      ]
     },
     "execution_count": 16,
     "metadata": {},
     "output_type": "execute_result"
    }
   ],
   "source": [
    "res = requests.get('https://api.themoviedb.org/3/search/person',params={'api_key':apiKey,'query':'McAvoy'}) \n",
    "data=res.json()\n",
    "ID  = data['results'][0]['id']\n",
    "ID"
   ]
  },
  {
   "cell_type": "code",
   "execution_count": 17,
   "id": "fbea50e8",
   "metadata": {},
   "outputs": [
    {
     "name": "stdout",
     "output_type": "stream",
     "text": [
      "Yes\n"
     ]
    }
   ],
   "source": [
    "res = requests.get(f'https://api.themoviedb.org/3/person/{ID}/movie_credits',params={'api_key':apiKey}) \n",
    "data=res.json()\n",
    "\n",
    "for i in data['cast']:\n",
    "    if 'Deadpool' in i['title']:\n",
    "        print('Yes')\n",
    "        break\n",
    "else:\n",
    "    print('No')"
   ]
  },
  {
   "cell_type": "markdown",
   "id": "655e13bb",
   "metadata": {},
   "source": [
    "# TMDb 2.5\n",
    "    Using the result obtained in previous question, find out if James McAvoy was credited for his role in movie Deadpool 2. Print Yes or No.\n"
   ]
  },
  {
   "cell_type": "code",
   "execution_count": 18,
   "id": "c4dcec33",
   "metadata": {},
   "outputs": [
    {
     "name": "stdout",
     "output_type": "stream",
     "text": [
      "No\n"
     ]
    }
   ],
   "source": [
    "for result in data['cast']:\n",
    "    if result['title']=='Deadpool 2':\n",
    "        a=result['character']\n",
    "        print('No')"
   ]
  },
  {
   "cell_type": "markdown",
   "id": "e42aa148",
   "metadata": {},
   "source": [
    "# TMDb 3.1\n",
    "    Fetch the overview of the TV Show \"FRIENDS\" using TMDb API.\n",
    "    Output Format:\n",
    "    Print the Overview."
   ]
  },
  {
   "cell_type": "code",
   "execution_count": 19,
   "id": "e815ab39",
   "metadata": {},
   "outputs": [
    {
     "name": "stdout",
     "output_type": "stream",
     "text": [
      "Six young people from New York City, on their own and struggling to survive in the real world, find the companionship, comfort and support they get from each other to be the perfect antidote to the pressures of life.\n"
     ]
    }
   ],
   "source": [
    "res = requests.get('https://api.themoviedb.org/3/search/tv',params={'api_key':apiKey,'query':'FRIENDS'}) \n",
    "data=res.json()\n",
    "for i in data['results']:\n",
    "    if i['original_name']=='Friends':\n",
    "        print(i['overview'])\n",
    "        break"
   ]
  },
  {
   "cell_type": "markdown",
   "id": "3c570043",
   "metadata": {},
   "source": [
    "# TMDb 3.2\n",
    "    Fetch the name and air date of S06E05 of the TV Show 'The Big Bang Theory' from TMDb API.\n",
    "    Output Format:\n",
    "    episode_name - air_date"
   ]
  },
  {
   "cell_type": "code",
   "execution_count": 20,
   "id": "e4be09e4",
   "metadata": {},
   "outputs": [
    {
     "data": {
      "text/plain": [
       "1418"
      ]
     },
     "execution_count": 20,
     "metadata": {},
     "output_type": "execute_result"
    }
   ],
   "source": [
    "res = requests.get('https://api.themoviedb.org/3/search/tv',params={'api_key':apiKey,'query':'The Big Bang Theory'}) \n",
    "data=res.json()\n",
    "for i in data['results']:\n",
    "    if i['original_name']=='The Big Bang Theory':\n",
    "        ID = i['id']\n",
    "        break\n",
    "ID"
   ]
  },
  {
   "cell_type": "code",
   "execution_count": 77,
   "id": "e0888a3e",
   "metadata": {},
   "outputs": [
    {
     "name": "stdout",
     "output_type": "stream",
     "text": [
      "The Holographic Excitation - 2012-10-25\n"
     ]
    }
   ],
   "source": [
    "res = requests.get('https://api.themoviedb.org/3/tv/1418/season/06/episode/05',params={'api_key':apiKey,'query':'The Big Bang Theory'}) \n",
    "data=res.json()\n",
    "print(data['name'],'-',data['air_date'])"
   ]
  },
  {
   "cell_type": "markdown",
   "id": "b05536a3",
   "metadata": {},
   "source": [
    "# TMDb 3.3\n",
    "    Fetch the trending TV Shows for the week from the TMDb API and print the taglines of the top 5 shows. If there is no tagline, print 'Empty' instead\n",
    "    Output Format:\n",
    "    Print the taglines in new line."
   ]
  },
  {
   "cell_type": "code",
   "execution_count": 21,
   "id": "f5199e51",
   "metadata": {},
   "outputs": [],
   "source": [
    "res = requests.get('https://api.themoviedb.org/3/trending/tv/week',params={'api_key':apiKey}) \n",
    "data=res.json()\n",
    "id=[]\n",
    "for i in data['results'][:5]:\n",
    "    id.append(i['id'])"
   ]
  },
  {
   "cell_type": "code",
   "execution_count": 22,
   "id": "aa2ff16b",
   "metadata": {},
   "outputs": [
    {
     "name": "stdout",
     "output_type": "stream",
     "text": [
      "When you're lost in the darkness, look for the light.\n",
      "Bounty hunting is a complicated profession.\n",
      "Let's wilt and die together.\n",
      "\n",
      "Every power has a price.\n"
     ]
    }
   ],
   "source": [
    "for i in id:\n",
    "    res = requests.get(f'https://api.themoviedb.org/3/tv/{i}',params={'api_key':apiKey}) \n",
    "    data=res.json()\n",
    "    print(data['tagline'])"
   ]
  },
  {
   "cell_type": "markdown",
   "id": "e7fe6b50",
   "metadata": {},
   "source": [
    "# TMDb 3.4\n",
    "    Print the names of all the TV shows to be aired today whose original language is english.\n",
    "    Output Format:\n",
    "    Print the name of each TV show in a new line."
   ]
  },
  {
   "cell_type": "code",
   "execution_count": 23,
   "id": "b03e6a31",
   "metadata": {},
   "outputs": [
    {
     "name": "stdout",
     "output_type": "stream",
     "text": [
      "LIVE with Kelly and Ryan\n",
      "Emmerdale\n",
      "Hollyoaks\n",
      "PBS NewsHour\n",
      "The Price Is Right\n",
      "Judy Justice\n",
      "The View\n",
      "The Tonight Show Starring Jimmy Fallon\n",
      "General Hospital\n",
      "Days of Our Lives\n",
      "CBS Evening News\n",
      "Tamron Hall\n",
      "Pictionary\n",
      "The ReidOut\n",
      "Coronation Street\n",
      "The Drew Barrymore Show\n",
      "GRAND SUMO Highlights\n",
      "Gold Rush\n",
      "Let's Make a Deal\n",
      "The Young and the Restless\n",
      "The Project\n",
      "RuPaul's Drag Race\n",
      "Real Time with Bill Maher\n",
      "Alex Wagner Tonight\n",
      "Power Book II: Ghost\n",
      "Secrets of Sulphur Springs\n",
      "25 Words or Less\n",
      "SpongeBob SquarePants\n",
      "Love Is Blind\n",
      "Party Down\n",
      "Would I Lie to You?\n",
      "American Masters\n",
      "Love After Lockup\n",
      "Whose Line Is It Anyway?\n",
      "Wheel of Fortune\n",
      "The Jennifer Hudson Show\n",
      "Click\n",
      "Up Here\n",
      "Beyond Paradise\n",
      "WWE NXT: Level Up\n",
      "The Spencer Sisters\n",
      "Divorce Court\n",
      "A Thousand Tomorrows\n",
      "The Steve Wilkos Show\n",
      "WWE SmackDown\n",
      "Last King of the Cross\n",
      "On Patrol: First Shift\n",
      "Lopez vs Lopez\n",
      "The Cleaner\n",
      "On Patrol: Live\n",
      "Grand Crew\n",
      "Rachael Ray\n",
      "The Nature of Things\n",
      "The Exhibit: Finding the Next Great Artist\n",
      "Drag Heals\n",
      "The Beaker Girls\n",
      "Zero Waste Life\n",
      "Saturdays\n",
      "Rise and Fall\n",
      "Becoming Frida Kahlo\n",
      "Motorway: Hell On The Highway\n",
      "Shortland Street\n",
      "Access Hollywood\n",
      "Game Theory with Bomani Jones\n",
      "Royal Rumors (2023)\n",
      "The Bold and the Beautiful\n",
      "Gogglebox\n",
      "A League of Their Own Road Trip: Southeast Asia\n",
      "Eggheads\n",
      "Turn Up the Volume\n",
      "Broadcat\n",
      "Studio 23\n"
     ]
    }
   ],
   "source": [
    "res = requests.get('https://api.themoviedb.org/3/tv/airing_today',params={'api_key':apiKey}) \n",
    "data=res.json()\n",
    "total_pages=data['total_pages']\n",
    "\n",
    "for j in range(1,total_pages+1):\n",
    "    res = requests.get('https://api.themoviedb.org/3/tv/airing_today',params={'api_key':apiKey,'page':j}) \n",
    "    data=res.json()\n",
    "    for i in data['results']:\n",
    "        if i['original_language']=='en':\n",
    "            print(i['name'])"
   ]
  },
  {
   "cell_type": "markdown",
   "id": "7c0844a7",
   "metadata": {},
   "source": [
    "# TMDb 3.5\n",
    "    Count the number of males and females in the cast of \"Money Heist\" using the TMDb API.\n",
    "    Output Format:\n",
    "    Print the count of male and female space separated.\n",
    "    male_count female_count"
   ]
  },
  {
   "cell_type": "code",
   "execution_count": 24,
   "id": "44fc46cf",
   "metadata": {},
   "outputs": [
    {
     "data": {
      "text/plain": [
       "71446"
      ]
     },
     "execution_count": 24,
     "metadata": {},
     "output_type": "execute_result"
    }
   ],
   "source": [
    "res = requests.get('https://api.themoviedb.org/3/search/tv',params={'api_key':apiKey,'query':'Money Heist'}) \n",
    "data=res.json()\n",
    "for i in data['results']:\n",
    "    if i['name']=='Money Heist':\n",
    "        ID = i['id']\n",
    "        break\n",
    "ID"
   ]
  },
  {
   "cell_type": "code",
   "execution_count": 25,
   "id": "650213b1",
   "metadata": {},
   "outputs": [
    {
     "name": "stdout",
     "output_type": "stream",
     "text": [
      "5 10\n"
     ]
    }
   ],
   "source": [
    "res = requests.get(F'https://api.themoviedb.org/3/tv/{ID}/credits',params={'api_key':apiKey}) \n",
    "data=res.json()\n",
    "Female=0\n",
    "Male=0\n",
    "for  i in data['cast']:\n",
    "    if i['gender']==1:\n",
    "        Male+=1\n",
    "    elif i['gender']==2:\n",
    "        Female+=1\n",
    "        \n",
    "print(Male,Female)"
   ]
  }
 ],
 "metadata": {
  "kernelspec": {
   "display_name": "Python 3 (ipykernel)",
   "language": "python",
   "name": "python3"
  },
  "language_info": {
   "codemirror_mode": {
    "name": "ipython",
    "version": 3
   },
   "file_extension": ".py",
   "mimetype": "text/x-python",
   "name": "python",
   "nbconvert_exporter": "python",
   "pygments_lexer": "ipython3",
   "version": "3.9.12"
  }
 },
 "nbformat": 4,
 "nbformat_minor": 5
}
